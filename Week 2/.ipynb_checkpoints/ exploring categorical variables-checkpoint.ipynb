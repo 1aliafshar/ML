{
 "cells": [
  {
   "cell_type": "markdown",
   "metadata": {},
   "source": [
    "### Importing main libraries"
   ]
  },
  {
   "cell_type": "code",
   "execution_count": 17,
   "metadata": {},
   "outputs": [],
   "source": [
    "import seaborn as sns\n",
    "import pandas as pd\n",
    "import matplotlib.pyplot as plt"
   ]
  },
  {
   "cell_type": "markdown",
   "metadata": {},
   "source": [
    "Loading my csv file and read header of that\n"
   ]
  },
  {
   "cell_type": "code",
   "execution_count": 18,
   "metadata": {
    "scrolled": true
   },
   "outputs": [
    {
     "data": {
      "text/html": [
       "<div>\n",
       "<style scoped>\n",
       "    .dataframe tbody tr th:only-of-type {\n",
       "        vertical-align: middle;\n",
       "    }\n",
       "\n",
       "    .dataframe tbody tr th {\n",
       "        vertical-align: top;\n",
       "    }\n",
       "\n",
       "    .dataframe thead th {\n",
       "        text-align: right;\n",
       "    }\n",
       "</style>\n",
       "<table border=\"1\" class=\"dataframe\">\n",
       "  <thead>\n",
       "    <tr style=\"text-align: right;\">\n",
       "      <th></th>\n",
       "      <th>id</th>\n",
       "      <th>gender</th>\n",
       "      <th>instagram_followers</th>\n",
       "      <th>linkedin_con</th>\n",
       "      <th>phones_owned</th>\n",
       "      <th>apps_phone</th>\n",
       "      <th>os_phone</th>\n",
       "      <th>like_social</th>\n",
       "      <th>like_tech</th>\n",
       "    </tr>\n",
       "  </thead>\n",
       "  <tbody>\n",
       "    <tr>\n",
       "      <th>0</th>\n",
       "      <td>1</td>\n",
       "      <td>Male</td>\n",
       "      <td>0.0</td>\n",
       "      <td>790.0</td>\n",
       "      <td>6.0</td>\n",
       "      <td>51.0</td>\n",
       "      <td>Android</td>\n",
       "      <td>Neutral</td>\n",
       "      <td>Agree</td>\n",
       "    </tr>\n",
       "    <tr>\n",
       "      <th>1</th>\n",
       "      <td>3</td>\n",
       "      <td>Female</td>\n",
       "      <td>680.0</td>\n",
       "      <td>174.0</td>\n",
       "      <td>6.0</td>\n",
       "      <td>122.0</td>\n",
       "      <td>iOS</td>\n",
       "      <td>Agree</td>\n",
       "      <td>Agree</td>\n",
       "    </tr>\n",
       "    <tr>\n",
       "      <th>2</th>\n",
       "      <td>4</td>\n",
       "      <td>Female</td>\n",
       "      <td>150.0</td>\n",
       "      <td>100.0</td>\n",
       "      <td>7.0</td>\n",
       "      <td>65.0</td>\n",
       "      <td>iOS</td>\n",
       "      <td>Neutral</td>\n",
       "      <td>Agree</td>\n",
       "    </tr>\n",
       "    <tr>\n",
       "      <th>3</th>\n",
       "      <td>6</td>\n",
       "      <td>Female</td>\n",
       "      <td>541.0</td>\n",
       "      <td>254.0</td>\n",
       "      <td>6.0</td>\n",
       "      <td>56.0</td>\n",
       "      <td>iOS</td>\n",
       "      <td>Neutral</td>\n",
       "      <td>Agree</td>\n",
       "    </tr>\n",
       "    <tr>\n",
       "      <th>4</th>\n",
       "      <td>7</td>\n",
       "      <td>Female</td>\n",
       "      <td>829.0</td>\n",
       "      <td>755.0</td>\n",
       "      <td>5.0</td>\n",
       "      <td>73.0</td>\n",
       "      <td>iOS</td>\n",
       "      <td>Agree</td>\n",
       "      <td>Agree</td>\n",
       "    </tr>\n",
       "  </tbody>\n",
       "</table>\n",
       "</div>"
      ],
      "text/plain": [
       "   id  gender  instagram_followers  linkedin_con  phones_owned  apps_phone  \\\n",
       "0   1    Male                  0.0         790.0           6.0        51.0   \n",
       "1   3  Female                680.0         174.0           6.0       122.0   \n",
       "2   4  Female                150.0         100.0           7.0        65.0   \n",
       "3   6  Female                541.0         254.0           6.0        56.0   \n",
       "4   7  Female                829.0         755.0           5.0        73.0   \n",
       "\n",
       "  os_phone like_social like_tech  \n",
       "0  Android     Neutral     Agree  \n",
       "1      iOS       Agree     Agree  \n",
       "2      iOS     Neutral     Agree  \n",
       "3      iOS     Neutral     Agree  \n",
       "4      iOS       Agree     Agree  "
      ]
     },
     "execution_count": 18,
     "metadata": {},
     "output_type": "execute_result"
    }
   ],
   "source": [
    "df = pd.read_csv('class.csv')\n",
    "df.head()"
   ]
  },
  {
   "cell_type": "markdown",
   "metadata": {},
   "source": [
    "### Table with independent variable "
   ]
  },
  {
   "cell_type": "code",
   "execution_count": 26,
   "metadata": {},
   "outputs": [
    {
     "data": {
      "text/html": [
       "<div>\n",
       "<style scoped>\n",
       "    .dataframe tbody tr th:only-of-type {\n",
       "        vertical-align: middle;\n",
       "    }\n",
       "\n",
       "    .dataframe tbody tr th {\n",
       "        vertical-align: top;\n",
       "    }\n",
       "\n",
       "    .dataframe thead th {\n",
       "        text-align: right;\n",
       "    }\n",
       "</style>\n",
       "<table border=\"1\" class=\"dataframe\">\n",
       "  <thead>\n",
       "    <tr style=\"text-align: right;\">\n",
       "      <th>like_tech</th>\n",
       "      <th>Agree</th>\n",
       "      <th>Neutral</th>\n",
       "      <th>Strongly agree</th>\n",
       "    </tr>\n",
       "    <tr>\n",
       "      <th>gender</th>\n",
       "      <th></th>\n",
       "      <th></th>\n",
       "      <th></th>\n",
       "    </tr>\n",
       "  </thead>\n",
       "  <tbody>\n",
       "    <tr>\n",
       "      <th>Female</th>\n",
       "      <td>0.717949</td>\n",
       "      <td>1.0</td>\n",
       "      <td>0.4</td>\n",
       "    </tr>\n",
       "    <tr>\n",
       "      <th>Male</th>\n",
       "      <td>0.282051</td>\n",
       "      <td>0.0</td>\n",
       "      <td>0.6</td>\n",
       "    </tr>\n",
       "  </tbody>\n",
       "</table>\n",
       "</div>"
      ],
      "text/plain": [
       "like_tech     Agree  Neutral  Strongly agree\n",
       "gender                                      \n",
       "Female     0.717949      1.0             0.4\n",
       "Male       0.282051      0.0             0.6"
      ]
     },
     "execution_count": 26,
     "metadata": {},
     "output_type": "execute_result"
    }
   ],
   "source": [
    "df[\"os_phone\"] = df[\"os_phone\"].replace(\"iOS\", \"IOS\")\n",
    "pd.crosstab(df[\"gender\"],df[\"like_social\"],normalize=\"columns\")\n"
   ]
  },
  {
   "cell_type": "code",
   "execution_count": 44,
   "metadata": {},
   "outputs": [
    {
     "data": {
      "image/png": "[encoded data removed]",
      "text/plain": [
       "<Figure size 432x288 with 1 Axes>"
      ]
     },
     "metadata": {
      "needs_background": "light"
     },
     "output_type": "display_data"
    },
    {
     "name": "stdout",
     "output_type": "stream",
     "text": [
      "    linkedin_con  phones_owned  apps_phone os_phone\n",
      "0          790.0           6.0        51.0  Android\n",
      "1          174.0           6.0       122.0      IOS\n",
      "2          100.0           7.0        65.0      IOS\n",
      "3          254.0           6.0        56.0      IOS\n",
      "4          755.0           5.0        73.0      IOS\n",
      "5           62.0           7.0       125.0      IOS\n",
      "6           50.0           1.0        10.0      IOS\n",
      "7           84.0           2.0        38.0  Android\n",
      "8           33.0           6.0        81.0  Android\n",
      "9          256.0           8.0        97.0  Android\n",
      "10         127.0           8.0       141.0      IOS\n",
      "11         201.0           7.0        80.0  Android\n",
      "12         309.0           5.0       156.0      IOS\n",
      "13         315.0           6.0        91.0      IOS\n",
      "14         620.0          12.0        90.0      IOS\n",
      "15         385.0           6.0        45.0      IOS\n",
      "16          90.0           5.0        25.0      IOS\n",
      "17        2000.0          10.0       312.0  Android\n",
      "18         500.0           6.0        70.0      IOS\n",
      "19         200.0           6.0        20.0  Android\n",
      "20          82.0          11.0        18.0      IOS\n",
      "21           0.0           6.0       127.0      IOS\n",
      "22         230.0           5.0       130.0  Android\n",
      "23        1569.0          13.0       120.0      IOS\n",
      "24          54.0           3.0        30.0  Android\n",
      "25           0.0           4.0        55.0      IOS\n",
      "26         312.0           5.0        80.0      IOS\n",
      "27         204.0           6.0        50.0  Android\n",
      "28         118.0           7.0       162.0  Android\n",
      "29         254.0           3.0        57.0      IOS\n",
      "30          53.0           7.0        60.0      IOS\n",
      "31         147.0           8.0       102.0      IOS\n",
      "32          45.0          10.0        20.0  Android\n",
      "33         603.0           7.0       122.0      IOS\n",
      "34         176.0           5.0        71.0  Android\n",
      "35         429.0           8.0        35.0  Android\n",
      "36          84.0           7.0        50.0      IOS\n",
      "37         348.0           6.0        69.0      IOS\n",
      "38         571.0           7.0       140.0      IOS\n",
      "39           NaN           6.0        30.0      IOS\n",
      "40         466.0           7.0        88.0      IOS\n",
      "41         601.0           7.0        30.0      IOS\n",
      "42         328.0          10.0       328.0  Android\n",
      "43           NaN           NaN         NaN      NaN\n",
      "44         500.0           6.0        75.0      IOS\n",
      "45        1000.0          15.0         NaN      IOS\n",
      "46         350.0           6.0       130.0      IOS\n",
      "47          93.0           NaN         NaN      IOS\n"
     ]
    }
   ],
   "source": [
    "sns.countplot(x=\"gender\", hue=\"like_social\", data=df)\n",
    "plt.show()\n",
    "# print(df[df[\"linkedin_con\"]>10])\n",
    "print(df.loc[:, \"linkedin_con\": \"os_phone\" ])\n",
    "\n"
   ]
  }
 ],
 "metadata": {
  "kernelspec": {
   "display_name": "Python 3",
   "language": "python",
   "name": "python3"
  },
  "language_info": {
   "codemirror_mode": {
    "name": "ipython",
    "version": 3
   },
   "file_extension": ".py",
   "mimetype": "text/x-python",
   "name": "python",
   "nbconvert_exporter": "python",
   "pygments_lexer": "ipython3",
   "version": "3.8.3"
  },
  "toc": {
   "base_numbering": 1,
   "nav_menu": {},
   "number_sections": true,
   "sideBar": true,
   "skip_h1_title": false,
   "title_cell": "Table of Contents",
   "title_sidebar": "Contents",
   "toc_cell": false,
   "toc_position": {},
   "toc_section_display": true,
   "toc_window_display": false
  }
 },
 "nbformat": 4,
 "nbformat_minor": 4
}
