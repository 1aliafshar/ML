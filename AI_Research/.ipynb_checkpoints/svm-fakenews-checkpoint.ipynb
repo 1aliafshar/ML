{
 "cells": [
  {
   "cell_type": "code",
   "execution_count": 1,
   "metadata": {},
   "outputs": [
    {
     "name": "stderr",
     "output_type": "stream",
     "text": [
      "[nltk_data] Downloading package wordnet to C:\\Users\\BARAN\n",
      "[nltk_data]     JOON\\AppData\\Roaming\\nltk_data...\n",
      "[nltk_data]   Package wordnet is already up-to-date!\n",
      "[nltk_data] Downloading package stopwords to C:\\Users\\BARAN\n",
      "[nltk_data]     JOON\\AppData\\Roaming\\nltk_data...\n",
      "[nltk_data]   Package stopwords is already up-to-date!\n",
      "[nltk_data] Downloading package punkt to C:\\Users\\BARAN\n",
      "[nltk_data]     JOON\\AppData\\Roaming\\nltk_data...\n",
      "[nltk_data]   Package punkt is already up-to-date!\n"
     ]
    },
    {
     "data": {
      "text/plain": [
       "True"
      ]
     },
     "execution_count": 1,
     "metadata": {},
     "output_type": "execute_result"
    }
   ],
   "source": [
    "import pandas as pd\n",
    "import numpy as np\n",
    "\n",
    "import matplotlib.pyplot as plt\n",
    "import seaborn as sns\n",
    "\n",
    "import nltk\n",
    "nltk.download('wordnet')\n",
    "from nltk.corpus import stopwords\n",
    "nltk.download('stopwords')\n",
    "from nltk.util import ngrams\n",
    "from nltk.tokenize import word_tokenize\n",
    "from nltk.stem import WordNetLemmatizer\n",
    "nltk.download('punkt')"
   ]
  },
  {
   "cell_type": "code",
   "execution_count": 2,
   "metadata": {},
   "outputs": [],
   "source": [
    "from sklearn.feature_extraction.text import CountVectorizer\n",
    "from sklearn.model_selection import train_test_split\n",
    "from nltk.corpus import wordnet as wn\n",
    "from nltk import pos_tag\n",
    "\n",
    "from sklearn.preprocessing import LabelEncoder\n",
    "from collections import defaultdict\n",
    "from nltk.corpus import wordnet as wn\n",
    "from sklearn.feature_extraction.text import TfidfVectorizer\n",
    "from sklearn import model_selection, svm\n",
    "from sklearn.metrics import accuracy_score"
   ]
  },
  {
   "cell_type": "code",
   "execution_count": 3,
   "metadata": {},
   "outputs": [],
   "source": [
    "import re\n",
    "import string\n",
    "import os\n",
    "from collections import defaultdict\n",
    "from collections import Counter"
   ]
  },
  {
   "cell_type": "code",
   "execution_count": 4,
   "metadata": {},
   "outputs": [],
   "source": [
    "plt.style.use('ggplot')\n",
    "stop = set(stopwords.words('english'))"
   ]
  },
  {
   "cell_type": "code",
   "execution_count": 5,
   "metadata": {},
   "outputs": [],
   "source": [
    "import gensim\n",
    "from tqdm.notebook import tqdm"
   ]
  },
  {
   "cell_type": "code",
   "execution_count": 6,
   "metadata": {},
   "outputs": [
    {
     "data": {
      "text/html": [
       "<div>\n",
       "<style scoped>\n",
       "    .dataframe tbody tr th:only-of-type {\n",
       "        vertical-align: middle;\n",
       "    }\n",
       "\n",
       "    .dataframe tbody tr th {\n",
       "        vertical-align: top;\n",
       "    }\n",
       "\n",
       "    .dataframe thead th {\n",
       "        text-align: right;\n",
       "    }\n",
       "</style>\n",
       "<table border=\"1\" class=\"dataframe\">\n",
       "  <thead>\n",
       "    <tr style=\"text-align: right;\">\n",
       "      <th></th>\n",
       "      <th>tweet_id</th>\n",
       "      <th>text</th>\n",
       "      <th>label</th>\n",
       "    </tr>\n",
       "  </thead>\n",
       "  <tbody>\n",
       "    <tr>\n",
       "      <th>0</th>\n",
       "      <td>1161040537207463936</td>\n",
       "      <td>'RT @SenJeffMerkley: The Endangered Species Ac...</td>\n",
       "      <td>1</td>\n",
       "    </tr>\n",
       "    <tr>\n",
       "      <th>1</th>\n",
       "      <td>1176360756239118342</td>\n",
       "      <td>'RT @LindseyGrahamSC: Interesting concept -- i...</td>\n",
       "      <td>1</td>\n",
       "    </tr>\n",
       "    <tr>\n",
       "      <th>2</th>\n",
       "      <td>1099036648573145088</td>\n",
       "      <td>'RT @RealJamesWoods: #BuildTheWall #DeportThem...</td>\n",
       "      <td>0</td>\n",
       "    </tr>\n",
       "    <tr>\n",
       "      <th>3</th>\n",
       "      <td>1092915693203480577</td>\n",
       "      <td>'RT @PatriotJackiB: Why would the MEXICAN GOV’...</td>\n",
       "      <td>0</td>\n",
       "    </tr>\n",
       "    <tr>\n",
       "      <th>4</th>\n",
       "      <td>1149038450668187654</td>\n",
       "      <td>'RT @TheOnion: Sweden Announces Plan To Get 10...</td>\n",
       "      <td>0</td>\n",
       "    </tr>\n",
       "  </tbody>\n",
       "</table>\n",
       "</div>"
      ],
      "text/plain": [
       "              tweet_id                                               text  \\\n",
       "0  1161040537207463936  'RT @SenJeffMerkley: The Endangered Species Ac...   \n",
       "1  1176360756239118342  'RT @LindseyGrahamSC: Interesting concept -- i...   \n",
       "2  1099036648573145088  'RT @RealJamesWoods: #BuildTheWall #DeportThem...   \n",
       "3  1092915693203480577  'RT @PatriotJackiB: Why would the MEXICAN GOV’...   \n",
       "4  1149038450668187654  'RT @TheOnion: Sweden Announces Plan To Get 10...   \n",
       "\n",
       "   label  \n",
       "0      1  \n",
       "1      1  \n",
       "2      0  \n",
       "3      0  \n",
       "4      0  "
      ]
     },
     "execution_count": 6,
     "metadata": {},
     "output_type": "execute_result"
    }
   ],
   "source": [
    "df = pd.read_csv('tweets_labeled.csv')\n",
    "df.head()"
   ]
  },
  {
   "cell_type": "markdown",
   "metadata": {},
   "source": [
    "EDA Most common words"
   ]
  },
  {
   "cell_type": "code",
   "execution_count": 8,
   "metadata": {},
   "outputs": [],
   "source": [
    "def create_corpus(label):\n",
    "    corpus = []\n",
    "    \n",
    "    for x in df.loc[df['label'] == label, 'text'].str.split():\n",
    "        for i in x:\n",
    "            corpus.append(i)\n",
    "            \n",
    "    return corpus"
   ]
  },
  {
   "cell_type": "code",
   "execution_count": 92,
   "metadata": {},
   "outputs": [
    {
     "data": {
      "text/plain": [
       "<BarContainer object of 10 artists>"
      ]
     },
     "execution_count": 92,
     "metadata": {},
     "output_type": "execute_result"
    },
    {
     "data": {
      "image/png": "[encoded data removed]",
      "text/plain": [
       "<Figure size 432x288 with 1 Axes>"
      ]
     },
     "metadata": {},
     "output_type": "display_data"
    }
   ],
   "source": [
    "corpus = create_corpus(0)\n",
    "\n",
    "dic = defaultdict(int)\n",
    "\n",
    "for word in corpus:\n",
    "    if word in stop:\n",
    "        dic[word] += 1\n",
    "        \n",
    "top = sorted(dic.items(), key=lambda x: x[1], reverse=True)[:10]\n",
    "\n",
    "x, y = zip(*top)\n",
    "plt.title('fake news')\n",
    "plt.bar(x, y)"
   ]
  },
  {
   "cell_type": "code",
   "execution_count": 93,
   "metadata": {},
   "outputs": [
    {
     "data": {
      "text/plain": [
       "<BarContainer object of 10 artists>"
      ]
     },
     "execution_count": 93,
     "metadata": {},
     "output_type": "execute_result"
    },
    {
     "data": {
      "image/png": "[encoded data removed]",
      "text/plain": [
       "<Figure size 432x288 with 1 Axes>"
      ]
     },
     "metadata": {},
     "output_type": "display_data"
    }
   ],
   "source": [
    "corpus = create_corpus(1)\n",
    "\n",
    "dic = defaultdict(int)\n",
    "\n",
    "for word in corpus:\n",
    "    if word in stop:\n",
    "        dic[word] += 1\n",
    "        \n",
    "top = sorted(dic.items(), key=lambda x: x[1], reverse=True)[:10]\n",
    "\n",
    "x, y = zip(*top)\n",
    "\n",
    "plt.title('real news')\n",
    "plt.bar(x, y, color='green')"
   ]
  },
  {
   "cell_type": "markdown",
   "metadata": {},
   "source": [
    "EDA punctuation"
   ]
  },
  {
   "cell_type": "code",
   "execution_count": 94,
   "metadata": {},
   "outputs": [
    {
     "data": {
      "text/plain": [
       "<BarContainer object of 22 artists>"
      ]
     },
     "execution_count": 94,
     "metadata": {},
     "output_type": "execute_result"
    },
    {
     "data": {
      "image/png": "[encoded data removed]",
      "text/plain": [
       "<Figure size 720x360 with 1 Axes>"
      ]
     },
     "metadata": {},
     "output_type": "display_data"
    }
   ],
   "source": [
    "plt.figure(figsize=(10, 5))\n",
    "corpus = create_corpus(0)\n",
    "\n",
    "dic = defaultdict(int)\n",
    "\n",
    "special = string.punctuation\n",
    "for i in corpus:\n",
    "    if i in special:\n",
    "        dic[i] += 1\n",
    "        \n",
    "x, y = zip(*dic.items())\n",
    "plt.bar(x, y)"
   ]
  },
  {
   "cell_type": "code",
   "execution_count": 95,
   "metadata": {},
   "outputs": [
    {
     "data": {
      "text/plain": [
       "<BarContainer object of 22 artists>"
      ]
     },
     "execution_count": 95,
     "metadata": {},
     "output_type": "execute_result"
    },
    {
     "data": {
      "image/png": "[encoded data removed]",
      "text/plain": [
       "<Figure size 720x360 with 1 Axes>"
      ]
     },
     "metadata": {},
     "output_type": "display_data"
    }
   ],
   "source": [
    "plt.figure(figsize=(10, 5))\n",
    "corpus = create_corpus(0)\n",
    "\n",
    "dic = defaultdict(int)\n",
    "\n",
    "special = string.punctuation\n",
    "for i in corpus:\n",
    "    if i in special:\n",
    "        dic[i] += 1\n",
    "        \n",
    "x, y = zip(*dic.items())\n",
    "plt.bar(x, y, color='green')"
   ]
  },
  {
   "cell_type": "markdown",
   "metadata": {},
   "source": [
    "Punctuation is almost the same. Maybe we can delete it."
   ]
  },
  {
   "cell_type": "code",
   "execution_count": 96,
   "metadata": {},
   "outputs": [
    {
     "data": {
      "text/plain": [
       "<AxesSubplot:>"
      ]
     },
     "execution_count": 96,
     "metadata": {},
     "output_type": "execute_result"
    },
    {
     "data": {
      "image/png": "[encoded data removed]",
      "text/plain": [
       "<Figure size 432x288 with 1 Axes>"
      ]
     },
     "metadata": {},
     "output_type": "display_data"
    }
   ],
   "source": [
    "counter = Counter(corpus)\n",
    "most_common = counter.most_common()\n",
    "\n",
    "x = list()\n",
    "y = list()\n",
    "\n",
    "for word, count in most_common[:40]:\n",
    "    if word not in stop:\n",
    "        x.append(word)\n",
    "        y.append(count)\n",
    "        \n",
    "sns.barplot(x=y, y=x, orient='h')"
   ]
  },
  {
   "cell_type": "markdown",
   "metadata": {},
   "source": [
    "Bigrams"
   ]
  },
  {
   "cell_type": "code",
   "execution_count": 97,
   "metadata": {},
   "outputs": [],
   "source": [
    "def get_top_tweet_bigrams(corpus, n=10):\n",
    "    vec = CountVectorizer(ngram_range=(2, 2)).fit(corpus)\n",
    "    \n",
    "    bag_of_words = vec.transform(corpus)\n",
    "    sum_words = bag_of_words.sum(axis=0)\n",
    "    \n",
    "    words_freq = [(word, sum_words[0, idx]) for word, idx in vec.vocabulary_.items()]\n",
    "    words_freq = sorted(words_freq, key = lambda x: x[1], reverse=True)\n",
    "    \n",
    "    return words_freq[:n]"
   ]
  },
  {
   "cell_type": "code",
   "execution_count": 98,
   "metadata": {},
   "outputs": [
    {
     "data": {
      "text/plain": [
       "<AxesSubplot:>"
      ]
     },
     "execution_count": 98,
     "metadata": {},
     "output_type": "execute_result"
    },
    {
     "data": {
      "image/png": "[encoded data removed]",
      "text/plain": [
       "<Figure size 720x360 with 1 Axes>"
      ]
     },
     "metadata": {},
     "output_type": "display_data"
    }
   ],
   "source": [
    "plt.figure(figsize=(10, 5))\n",
    "top_tweet_bigrams = get_top_tweet_bigrams(df['text'])[:10]\n",
    "\n",
    "x, y = map(list, zip(*top_tweet_bigrams))\n",
    "\n",
    "sns.barplot(x=y, y=x)"
   ]
  },
  {
   "cell_type": "markdown",
   "metadata": {},
   "source": [
    "Data Cleaning  We can remove URLs, HTML tags and emojis. It is hard to get information from them."
   ]
  },
  {
   "cell_type": "code",
   "execution_count": 7,
   "metadata": {},
   "outputs": [],
   "source": [
    "def clean(df):\n",
    "    \n",
    "    sentence = df['text'].str.replace(r'RT\\s', '')\n",
    "    sentence = sentence.str.replace(r'@\\S*?\\s', '')\n",
    "    sentence = sentence.str.replace(r'@\\S*?$', '')\n",
    "    sentence = sentence.str.replace(r'https\\S*?\\s', ' ')  \n",
    "    sentence = sentence.str.replace(r'https\\S*?$', '')\n",
    "    sentence = sentence.str.replace('\\'', '')\n",
    "    sentence = sentence.str.replace(r'…', '')\n",
    "    sentence = sentence.str.replace(r'\\s$', '')\n",
    "\n",
    "    df['text'] = sentence\n",
    "    return df"
   ]
  },
  {
   "cell_type": "code",
   "execution_count": 8,
   "metadata": {},
   "outputs": [
    {
     "data": {
      "text/html": [
       "<div>\n",
       "<style scoped>\n",
       "    .dataframe tbody tr th:only-of-type {\n",
       "        vertical-align: middle;\n",
       "    }\n",
       "\n",
       "    .dataframe tbody tr th {\n",
       "        vertical-align: top;\n",
       "    }\n",
       "\n",
       "    .dataframe thead th {\n",
       "        text-align: right;\n",
       "    }\n",
       "</style>\n",
       "<table border=\"1\" class=\"dataframe\">\n",
       "  <thead>\n",
       "    <tr style=\"text-align: right;\">\n",
       "      <th></th>\n",
       "      <th>tweet_id</th>\n",
       "      <th>text</th>\n",
       "      <th>label</th>\n",
       "    </tr>\n",
       "  </thead>\n",
       "  <tbody>\n",
       "    <tr>\n",
       "      <th>0</th>\n",
       "      <td>1161040537207463936</td>\n",
       "      <td>The Endangered Species Act saved the bald eagl...</td>\n",
       "      <td>1</td>\n",
       "    </tr>\n",
       "    <tr>\n",
       "      <th>1</th>\n",
       "      <td>1176360756239118342</td>\n",
       "      <td>Interesting concept -- impeach first, find fac...</td>\n",
       "      <td>1</td>\n",
       "    </tr>\n",
       "    <tr>\n",
       "      <th>2</th>\n",
       "      <td>1099036648573145088</td>\n",
       "      <td>#BuildTheWall #DeportThemAll</td>\n",
       "      <td>0</td>\n",
       "    </tr>\n",
       "    <tr>\n",
       "      <th>3</th>\n",
       "      <td>1092915693203480577</td>\n",
       "      <td>Why would the MEXICAN GOV’T fund this? Who are...</td>\n",
       "      <td>0</td>\n",
       "    </tr>\n",
       "    <tr>\n",
       "      <th>4</th>\n",
       "      <td>1149038450668187654</td>\n",
       "      <td>Sweden Announces Plan To Get 100% Of Energy Fr...</td>\n",
       "      <td>0</td>\n",
       "    </tr>\n",
       "    <tr>\n",
       "      <th>...</th>\n",
       "      <td>...</td>\n",
       "      <td>...</td>\n",
       "      <td>...</td>\n",
       "    </tr>\n",
       "    <tr>\n",
       "      <th>225400</th>\n",
       "      <td>1082458315865706496</td>\n",
       "      <td>Golden Globes: Anti-Gun Hollywood Surrounded B...</td>\n",
       "      <td>0</td>\n",
       "    </tr>\n",
       "    <tr>\n",
       "      <th>225401</th>\n",
       "      <td>1181310428850380801</td>\n",
       "      <td>Among the extreme measures being discussed abo...</td>\n",
       "      <td>1</td>\n",
       "    </tr>\n",
       "    <tr>\n",
       "      <th>225402</th>\n",
       "      <td>1139512030522695686</td>\n",
       "      <td>ICE Arrests 140 Illegal Aliens, 42 with Crimin...</td>\n",
       "      <td>0</td>\n",
       "    </tr>\n",
       "    <tr>\n",
       "      <th>225403</th>\n",
       "      <td>1084688347040075776</td>\n",
       "      <td>Brought in by visa overstayers?  NO!  Brought ...</td>\n",
       "      <td>0</td>\n",
       "    </tr>\n",
       "    <tr>\n",
       "      <th>225404</th>\n",
       "      <td>1138549835718512640</td>\n",
       "      <td>FromSoftware Announces Partnership With Eric C...</td>\n",
       "      <td>0</td>\n",
       "    </tr>\n",
       "  </tbody>\n",
       "</table>\n",
       "<p>225405 rows × 3 columns</p>\n",
       "</div>"
      ],
      "text/plain": [
       "                   tweet_id  \\\n",
       "0       1161040537207463936   \n",
       "1       1176360756239118342   \n",
       "2       1099036648573145088   \n",
       "3       1092915693203480577   \n",
       "4       1149038450668187654   \n",
       "...                     ...   \n",
       "225400  1082458315865706496   \n",
       "225401  1181310428850380801   \n",
       "225402  1139512030522695686   \n",
       "225403  1084688347040075776   \n",
       "225404  1138549835718512640   \n",
       "\n",
       "                                                     text  label  \n",
       "0       The Endangered Species Act saved the bald eagl...      1  \n",
       "1       Interesting concept -- impeach first, find fac...      1  \n",
       "2                           #BuildTheWall #DeportThemAll       0  \n",
       "3       Why would the MEXICAN GOV’T fund this? Who are...      0  \n",
       "4       Sweden Announces Plan To Get 100% Of Energy Fr...      0  \n",
       "...                                                   ...    ...  \n",
       "225400  Golden Globes: Anti-Gun Hollywood Surrounded B...      0  \n",
       "225401  Among the extreme measures being discussed abo...      1  \n",
       "225402  ICE Arrests 140 Illegal Aliens, 42 with Crimin...      0  \n",
       "225403  Brought in by visa overstayers?  NO!  Brought ...      0  \n",
       "225404  FromSoftware Announces Partnership With Eric C...      0  \n",
       "\n",
       "[225405 rows x 3 columns]"
      ]
     },
     "execution_count": 8,
     "metadata": {},
     "output_type": "execute_result"
    }
   ],
   "source": [
    "clean(df)"
   ]
  },
  {
   "cell_type": "code",
   "execution_count": 9,
   "metadata": {},
   "outputs": [],
   "source": [
    "def remove_emoji(text):\n",
    "    emoji_pattern = re.compile(\"[\"\n",
    "                           u\"\\U0001F600-\\U0001F64F\"  # emoticons\n",
    "                           u\"\\U0001F300-\\U0001F5FF\"  # symbols & pictographs\n",
    "                           u\"\\U0001F680-\\U0001F6FF\"  # transport & map symbols\n",
    "                           u\"\\U0001F1E0-\\U0001F1FF\"  # flags (iOS)\n",
    "                           u\"\\U00002702-\\U000027B0\"\n",
    "                           u\"\\U000024C2-\\U0001F251\"\n",
    "                           \"]+\", flags=re.UNICODE)\n",
    "    \n",
    "    return emoji_pattern.sub(r'', text)"
   ]
  },
  {
   "cell_type": "code",
   "execution_count": 10,
   "metadata": {},
   "outputs": [],
   "source": [
    "df['text'] = df['text'].apply(lambda x: remove_emoji(x))"
   ]
  },
  {
   "cell_type": "code",
   "execution_count": 11,
   "metadata": {},
   "outputs": [],
   "source": [
    "def remove_punct(text):\n",
    "    table = str.maketrans('', '', string.punctuation)\n",
    "    \n",
    "    return text.translate(table)"
   ]
  },
  {
   "cell_type": "code",
   "execution_count": 12,
   "metadata": {},
   "outputs": [],
   "source": [
    "df['text'] = df['text'].apply(lambda x: remove_punct(x))"
   ]
  },
  {
   "cell_type": "code",
   "execution_count": 13,
   "metadata": {},
   "outputs": [
    {
     "data": {
      "text/html": [
       "<div>\n",
       "<style scoped>\n",
       "    .dataframe tbody tr th:only-of-type {\n",
       "        vertical-align: middle;\n",
       "    }\n",
       "\n",
       "    .dataframe tbody tr th {\n",
       "        vertical-align: top;\n",
       "    }\n",
       "\n",
       "    .dataframe thead th {\n",
       "        text-align: right;\n",
       "    }\n",
       "</style>\n",
       "<table border=\"1\" class=\"dataframe\">\n",
       "  <thead>\n",
       "    <tr style=\"text-align: right;\">\n",
       "      <th></th>\n",
       "      <th>tweet_id</th>\n",
       "      <th>text</th>\n",
       "      <th>label</th>\n",
       "    </tr>\n",
       "  </thead>\n",
       "  <tbody>\n",
       "    <tr>\n",
       "      <th>0</th>\n",
       "      <td>1161040537207463936</td>\n",
       "      <td>The Endangered Species Act saved the bald eagl...</td>\n",
       "      <td>1</td>\n",
       "    </tr>\n",
       "    <tr>\n",
       "      <th>1</th>\n",
       "      <td>1176360756239118342</td>\n",
       "      <td>Interesting concept  impeach first find facts ...</td>\n",
       "      <td>1</td>\n",
       "    </tr>\n",
       "    <tr>\n",
       "      <th>2</th>\n",
       "      <td>1099036648573145088</td>\n",
       "      <td>BuildTheWall DeportThemAll</td>\n",
       "      <td>0</td>\n",
       "    </tr>\n",
       "    <tr>\n",
       "      <th>3</th>\n",
       "      <td>1092915693203480577</td>\n",
       "      <td>Why would the MEXICAN GOV’T fund this Who are ...</td>\n",
       "      <td>0</td>\n",
       "    </tr>\n",
       "    <tr>\n",
       "      <th>4</th>\n",
       "      <td>1149038450668187654</td>\n",
       "      <td>Sweden Announces Plan To Get 100 Of Energy Fro...</td>\n",
       "      <td>0</td>\n",
       "    </tr>\n",
       "  </tbody>\n",
       "</table>\n",
       "</div>"
      ],
      "text/plain": [
       "              tweet_id                                               text  \\\n",
       "0  1161040537207463936  The Endangered Species Act saved the bald eagl...   \n",
       "1  1176360756239118342  Interesting concept  impeach first find facts ...   \n",
       "2  1099036648573145088                        BuildTheWall DeportThemAll    \n",
       "3  1092915693203480577  Why would the MEXICAN GOV’T fund this Who are ...   \n",
       "4  1149038450668187654  Sweden Announces Plan To Get 100 Of Energy Fro...   \n",
       "\n",
       "   label  \n",
       "0      1  \n",
       "1      1  \n",
       "2      0  \n",
       "3      0  \n",
       "4      0  "
      ]
     },
     "execution_count": 13,
     "metadata": {},
     "output_type": "execute_result"
    }
   ],
   "source": [
    "df.head()"
   ]
  },
  {
   "cell_type": "code",
   "execution_count": 14,
   "metadata": {},
   "outputs": [
    {
     "name": "stderr",
     "output_type": "stream",
     "text": [
      "[nltk_data] Downloading package stopwords to C:\\Users\\BARAN\n",
      "[nltk_data]     JOON\\AppData\\Roaming\\nltk_data...\n",
      "[nltk_data]   Package stopwords is already up-to-date!\n"
     ]
    }
   ],
   "source": [
    "# Step - b : Change all the text to lower case. This is required as python interprets 'dog' and 'DOG' differently\n",
    "df['text'] = [entry.lower() for entry in df['text']]\n",
    "\n",
    "import nltk\n",
    "nltk.download('stopwords')\n",
    "from nltk.corpus import stopwords\n",
    "stop = stopwords.words('english')\n",
    "df['text'] = df['text'].apply(lambda x: ' '.join([word for word in x.split() if word not in (stop)]))"
   ]
  },
  {
   "cell_type": "code",
   "execution_count": 15,
   "metadata": {},
   "outputs": [
    {
     "data": {
      "text/html": [
       "<div>\n",
       "<style scoped>\n",
       "    .dataframe tbody tr th:only-of-type {\n",
       "        vertical-align: middle;\n",
       "    }\n",
       "\n",
       "    .dataframe tbody tr th {\n",
       "        vertical-align: top;\n",
       "    }\n",
       "\n",
       "    .dataframe thead th {\n",
       "        text-align: right;\n",
       "    }\n",
       "</style>\n",
       "<table border=\"1\" class=\"dataframe\">\n",
       "  <thead>\n",
       "    <tr style=\"text-align: right;\">\n",
       "      <th></th>\n",
       "      <th>tweet_id</th>\n",
       "      <th>text</th>\n",
       "      <th>label</th>\n",
       "    </tr>\n",
       "  </thead>\n",
       "  <tbody>\n",
       "    <tr>\n",
       "      <th>0</th>\n",
       "      <td>1161040537207463936</td>\n",
       "      <td>endangered species act saved bald eagle signed...</td>\n",
       "      <td>1</td>\n",
       "    </tr>\n",
       "    <tr>\n",
       "      <th>1</th>\n",
       "      <td>1176360756239118342</td>\n",
       "      <td>interesting concept impeach first find facts l...</td>\n",
       "      <td>1</td>\n",
       "    </tr>\n",
       "    <tr>\n",
       "      <th>2</th>\n",
       "      <td>1099036648573145088</td>\n",
       "      <td>buildthewall deportthemall</td>\n",
       "      <td>0</td>\n",
       "    </tr>\n",
       "    <tr>\n",
       "      <th>3</th>\n",
       "      <td>1092915693203480577</td>\n",
       "      <td>would mexican gov’t fund cahoots</td>\n",
       "      <td>0</td>\n",
       "    </tr>\n",
       "    <tr>\n",
       "      <th>4</th>\n",
       "      <td>1149038450668187654</td>\n",
       "      <td>sweden announces plan get 100 energy unguarded...</td>\n",
       "      <td>0</td>\n",
       "    </tr>\n",
       "  </tbody>\n",
       "</table>\n",
       "</div>"
      ],
      "text/plain": [
       "              tweet_id                                               text  \\\n",
       "0  1161040537207463936  endangered species act saved bald eagle signed...   \n",
       "1  1176360756239118342  interesting concept impeach first find facts l...   \n",
       "2  1099036648573145088                         buildthewall deportthemall   \n",
       "3  1092915693203480577                   would mexican gov’t fund cahoots   \n",
       "4  1149038450668187654  sweden announces plan get 100 energy unguarded...   \n",
       "\n",
       "   label  \n",
       "0      1  \n",
       "1      1  \n",
       "2      0  \n",
       "3      0  \n",
       "4      0  "
      ]
     },
     "execution_count": 15,
     "metadata": {},
     "output_type": "execute_result"
    }
   ],
   "source": [
    "df.head()"
   ]
  },
  {
   "cell_type": "code",
   "execution_count": 16,
   "metadata": {},
   "outputs": [],
   "source": [
    "# Step - a : Remove blank rows if any.\n",
    "df['text'].dropna(inplace=True)"
   ]
  },
  {
   "cell_type": "code",
   "execution_count": 17,
   "metadata": {},
   "outputs": [],
   "source": [
    "# Step - c : Tokenization : In this each entry in the corpus will be broken into set of words\n",
    "df['text']= [word_tokenize(entry) for entry in df['text']]"
   ]
  },
  {
   "cell_type": "code",
   "execution_count": 18,
   "metadata": {},
   "outputs": [
    {
     "data": {
      "text/html": [
       "<div>\n",
       "<style scoped>\n",
       "    .dataframe tbody tr th:only-of-type {\n",
       "        vertical-align: middle;\n",
       "    }\n",
       "\n",
       "    .dataframe tbody tr th {\n",
       "        vertical-align: top;\n",
       "    }\n",
       "\n",
       "    .dataframe thead th {\n",
       "        text-align: right;\n",
       "    }\n",
       "</style>\n",
       "<table border=\"1\" class=\"dataframe\">\n",
       "  <thead>\n",
       "    <tr style=\"text-align: right;\">\n",
       "      <th></th>\n",
       "      <th>tweet_id</th>\n",
       "      <th>text</th>\n",
       "      <th>label</th>\n",
       "    </tr>\n",
       "  </thead>\n",
       "  <tbody>\n",
       "    <tr>\n",
       "      <th>0</th>\n",
       "      <td>1161040537207463936</td>\n",
       "      <td>[endangered, species, act, saved, bald, eagle,...</td>\n",
       "      <td>1</td>\n",
       "    </tr>\n",
       "    <tr>\n",
       "      <th>1</th>\n",
       "      <td>1176360756239118342</td>\n",
       "      <td>[interesting, concept, impeach, first, find, f...</td>\n",
       "      <td>1</td>\n",
       "    </tr>\n",
       "    <tr>\n",
       "      <th>2</th>\n",
       "      <td>1099036648573145088</td>\n",
       "      <td>[buildthewall, deportthemall]</td>\n",
       "      <td>0</td>\n",
       "    </tr>\n",
       "    <tr>\n",
       "      <th>3</th>\n",
       "      <td>1092915693203480577</td>\n",
       "      <td>[would, mexican, gov, ’, t, fund, cahoots]</td>\n",
       "      <td>0</td>\n",
       "    </tr>\n",
       "    <tr>\n",
       "      <th>4</th>\n",
       "      <td>1149038450668187654</td>\n",
       "      <td>[sweden, announces, plan, get, 100, energy, un...</td>\n",
       "      <td>0</td>\n",
       "    </tr>\n",
       "  </tbody>\n",
       "</table>\n",
       "</div>"
      ],
      "text/plain": [
       "              tweet_id                                               text  \\\n",
       "0  1161040537207463936  [endangered, species, act, saved, bald, eagle,...   \n",
       "1  1176360756239118342  [interesting, concept, impeach, first, find, f...   \n",
       "2  1099036648573145088                      [buildthewall, deportthemall]   \n",
       "3  1092915693203480577         [would, mexican, gov, ’, t, fund, cahoots]   \n",
       "4  1149038450668187654  [sweden, announces, plan, get, 100, energy, un...   \n",
       "\n",
       "   label  \n",
       "0      1  \n",
       "1      1  \n",
       "2      0  \n",
       "3      0  \n",
       "4      0  "
      ]
     },
     "execution_count": 18,
     "metadata": {},
     "output_type": "execute_result"
    }
   ],
   "source": [
    "df.head()"
   ]
  },
  {
   "cell_type": "code",
   "execution_count": 19,
   "metadata": {},
   "outputs": [],
   "source": [
    "# WordNetLemmatizer requires Pos tags to understand if the word is noun or verb or adjective etc. By default it is set to Noun\n",
    "tag_map = defaultdict(lambda : wn.NOUN)\n",
    "tag_map['J'] = wn.ADJ\n",
    "tag_map['V'] = wn.VERB\n",
    "tag_map['R'] = wn.ADV"
   ]
  },
  {
   "cell_type": "code",
   "execution_count": 20,
   "metadata": {},
   "outputs": [
    {
     "name": "stderr",
     "output_type": "stream",
     "text": [
      "[nltk_data] Downloading package averaged_perceptron_tagger to\n",
      "[nltk_data]     C:\\Users\\BARAN JOON\\AppData\\Roaming\\nltk_data...\n",
      "[nltk_data]   Package averaged_perceptron_tagger is already up-to-\n",
      "[nltk_data]       date!\n"
     ]
    }
   ],
   "source": [
    "nltk.download('averaged_perceptron_tagger')\n",
    "for index,entry in enumerate(df['text']):\n",
    "    # Declaring Empty List to store the words that follow the rules for this step\n",
    "    Final_words = []\n",
    "    # Initializing WordNetLemmatizer()\n",
    "    word_Lemmatized = WordNetLemmatizer()\n",
    "    # pos_tag function below will provide the 'tag' i.e if the word is Noun(N) or Verb(V) or something else .\n",
    "    for word, tag in pos_tag(entry):\n",
    "        # Below condition is to check for Stop words and consider only alphabets\n",
    "        if word not in stopwords.words('english') and word.isalpha():\n",
    "            word_Final = word_Lemmatized.lemmatize(word,tag_map[tag[0]])\n",
    "            Final_words.append(word_Final)\n",
    "    # The final processed set of words for each iteration will be stored in 'text_final'\n",
    "    df.loc[index,'text_final'] = str(Final_words)"
   ]
  },
  {
   "cell_type": "code",
   "execution_count": 21,
   "metadata": {},
   "outputs": [
    {
     "data": {
      "text/html": [
       "<div>\n",
       "<style scoped>\n",
       "    .dataframe tbody tr th:only-of-type {\n",
       "        vertical-align: middle;\n",
       "    }\n",
       "\n",
       "    .dataframe tbody tr th {\n",
       "        vertical-align: top;\n",
       "    }\n",
       "\n",
       "    .dataframe thead th {\n",
       "        text-align: right;\n",
       "    }\n",
       "</style>\n",
       "<table border=\"1\" class=\"dataframe\">\n",
       "  <thead>\n",
       "    <tr style=\"text-align: right;\">\n",
       "      <th></th>\n",
       "      <th>tweet_id</th>\n",
       "      <th>text</th>\n",
       "      <th>label</th>\n",
       "      <th>text_final</th>\n",
       "    </tr>\n",
       "  </thead>\n",
       "  <tbody>\n",
       "    <tr>\n",
       "      <th>0</th>\n",
       "      <td>1161040537207463936</td>\n",
       "      <td>[endangered, species, act, saved, bald, eagle,...</td>\n",
       "      <td>1</td>\n",
       "      <td>['endanger', 'specie', 'act', 'save', 'bald', ...</td>\n",
       "    </tr>\n",
       "    <tr>\n",
       "      <th>1</th>\n",
       "      <td>1176360756239118342</td>\n",
       "      <td>[interesting, concept, impeach, first, find, f...</td>\n",
       "      <td>1</td>\n",
       "      <td>['interest', 'concept', 'impeach', 'first', 'f...</td>\n",
       "    </tr>\n",
       "    <tr>\n",
       "      <th>2</th>\n",
       "      <td>1099036648573145088</td>\n",
       "      <td>[buildthewall, deportthemall]</td>\n",
       "      <td>0</td>\n",
       "      <td>['buildthewall', 'deportthemall']</td>\n",
       "    </tr>\n",
       "    <tr>\n",
       "      <th>3</th>\n",
       "      <td>1092915693203480577</td>\n",
       "      <td>[would, mexican, gov, ’, t, fund, cahoots]</td>\n",
       "      <td>0</td>\n",
       "      <td>['would', 'mexican', 'gov', 'fund', 'cahoot']</td>\n",
       "    </tr>\n",
       "    <tr>\n",
       "      <th>4</th>\n",
       "      <td>1149038450668187654</td>\n",
       "      <td>[sweden, announces, plan, get, 100, energy, un...</td>\n",
       "      <td>0</td>\n",
       "      <td>['sweden', 'announces', 'plan', 'get', 'energy...</td>\n",
       "    </tr>\n",
       "  </tbody>\n",
       "</table>\n",
       "</div>"
      ],
      "text/plain": [
       "              tweet_id                                               text  \\\n",
       "0  1161040537207463936  [endangered, species, act, saved, bald, eagle,...   \n",
       "1  1176360756239118342  [interesting, concept, impeach, first, find, f...   \n",
       "2  1099036648573145088                      [buildthewall, deportthemall]   \n",
       "3  1092915693203480577         [would, mexican, gov, ’, t, fund, cahoots]   \n",
       "4  1149038450668187654  [sweden, announces, plan, get, 100, energy, un...   \n",
       "\n",
       "   label                                         text_final  \n",
       "0      1  ['endanger', 'specie', 'act', 'save', 'bald', ...  \n",
       "1      1  ['interest', 'concept', 'impeach', 'first', 'f...  \n",
       "2      0                  ['buildthewall', 'deportthemall']  \n",
       "3      0      ['would', 'mexican', 'gov', 'fund', 'cahoot']  \n",
       "4      0  ['sweden', 'announces', 'plan', 'get', 'energy...  "
      ]
     },
     "execution_count": 21,
     "metadata": {},
     "output_type": "execute_result"
    }
   ],
   "source": [
    "df.head()"
   ]
  },
  {
   "cell_type": "code",
   "execution_count": 6,
   "metadata": {},
   "outputs": [
    {
     "data": {
      "text/html": [
       "<div>\n",
       "<style scoped>\n",
       "    .dataframe tbody tr th:only-of-type {\n",
       "        vertical-align: middle;\n",
       "    }\n",
       "\n",
       "    .dataframe tbody tr th {\n",
       "        vertical-align: top;\n",
       "    }\n",
       "\n",
       "    .dataframe thead th {\n",
       "        text-align: right;\n",
       "    }\n",
       "</style>\n",
       "<table border=\"1\" class=\"dataframe\">\n",
       "  <thead>\n",
       "    <tr style=\"text-align: right;\">\n",
       "      <th></th>\n",
       "      <th>tweet_id</th>\n",
       "      <th>text</th>\n",
       "      <th>label</th>\n",
       "      <th>text_final</th>\n",
       "    </tr>\n",
       "  </thead>\n",
       "  <tbody>\n",
       "    <tr>\n",
       "      <th>0</th>\n",
       "      <td>1161040537207463936</td>\n",
       "      <td>['endangered', 'species', 'act', 'saved', 'bal...</td>\n",
       "      <td>1</td>\n",
       "      <td>['endanger', 'specie', 'act', 'save', 'bald', ...</td>\n",
       "    </tr>\n",
       "    <tr>\n",
       "      <th>1</th>\n",
       "      <td>1176360756239118342</td>\n",
       "      <td>['interesting', 'concept', 'impeach', 'first',...</td>\n",
       "      <td>1</td>\n",
       "      <td>['interest', 'concept', 'impeach', 'first', 'f...</td>\n",
       "    </tr>\n",
       "    <tr>\n",
       "      <th>2</th>\n",
       "      <td>1099036648573145088</td>\n",
       "      <td>['buildthewall', 'deportthemall']</td>\n",
       "      <td>0</td>\n",
       "      <td>['buildthewall', 'deportthemall']</td>\n",
       "    </tr>\n",
       "    <tr>\n",
       "      <th>3</th>\n",
       "      <td>1092915693203480577</td>\n",
       "      <td>['would', 'mexican', 'gov', '’', 't', 'fund', ...</td>\n",
       "      <td>0</td>\n",
       "      <td>['would', 'mexican', 'gov', 'fund', 'cahoot']</td>\n",
       "    </tr>\n",
       "    <tr>\n",
       "      <th>4</th>\n",
       "      <td>1149038450668187654</td>\n",
       "      <td>['sweden', 'announces', 'plan', 'get', '100', ...</td>\n",
       "      <td>0</td>\n",
       "      <td>['sweden', 'announces', 'plan', 'get', 'energy...</td>\n",
       "    </tr>\n",
       "  </tbody>\n",
       "</table>\n",
       "</div>"
      ],
      "text/plain": [
       "              tweet_id                                               text  \\\n",
       "0  1161040537207463936  ['endangered', 'species', 'act', 'saved', 'bal...   \n",
       "1  1176360756239118342  ['interesting', 'concept', 'impeach', 'first',...   \n",
       "2  1099036648573145088                  ['buildthewall', 'deportthemall']   \n",
       "3  1092915693203480577  ['would', 'mexican', 'gov', '’', 't', 'fund', ...   \n",
       "4  1149038450668187654  ['sweden', 'announces', 'plan', 'get', '100', ...   \n",
       "\n",
       "   label                                         text_final  \n",
       "0      1  ['endanger', 'specie', 'act', 'save', 'bald', ...  \n",
       "1      1  ['interest', 'concept', 'impeach', 'first', 'f...  \n",
       "2      0                  ['buildthewall', 'deportthemall']  \n",
       "3      0      ['would', 'mexican', 'gov', 'fund', 'cahoot']  \n",
       "4      0  ['sweden', 'announces', 'plan', 'get', 'energy...  "
      ]
     },
     "execution_count": 6,
     "metadata": {},
     "output_type": "execute_result"
    }
   ],
   "source": [
    "#df.to_csv(r'C:\\Users\\BARAN JOON\\Desktop\\tweets_lemma.csv',index = False)\n",
    "df = pd.read_csv('tweets_lemma.csv')\n",
    "df.head()"
   ]
  },
  {
   "cell_type": "code",
   "execution_count": 7,
   "metadata": {},
   "outputs": [],
   "source": [
    "Train_X, Test_X, Train_Y, Test_Y = model_selection.train_test_split(df['text_final'],df['label'],test_size=0.3)"
   ]
  },
  {
   "cell_type": "code",
   "execution_count": 8,
   "metadata": {},
   "outputs": [],
   "source": [
    "Tfidf_vect = TfidfVectorizer(max_features=500)\n",
    "Tfidf_vect.fit(df['text_final'])\n",
    "Train_X_Tfidf = Tfidf_vect.transform(Train_X)\n",
    "Test_X_Tfidf = Tfidf_vect.transform(Test_X)"
   ]
  },
  {
   "cell_type": "code",
   "execution_count": 9,
   "metadata": {},
   "outputs": [
    {
     "name": "stdout",
     "output_type": "stream",
     "text": [
      "{'act': 8, 'sign': 418, 'law': 260, 'republican': 387, 'president': 359, 'nothing': 318, 'interest': 234, 'impeach': 229, 'first': 176, 'find': 174, 'fact': 166, 'sound': 424, 'like': 271, 'mainstream': 282, 'medium': 293, 'write': 496, 'story': 431, 'buildthewall': 69, 'deportthemall': 129, 'would': 495, 'mexican': 296, 'announces': 24, 'plan': 344, 'get': 189, 'wall': 473, 'warren': 476, 'congress': 101, 'fail': 167, 'impeachment': 230, 'trump': 457, 'current': 110, 'former': 179, 'staff': 425, 'state': 426, 'department': 127, 'say': 398, 'ukraine': 464, 'bombshell': 57, 'much': 305, 'top': 453, 'diplomat': 131, 'real': 377, 'time': 450, 'urge': 466, 'woman': 491, 'abortion': 3, 'aag': 0, 'country': 106, 'must': 309, 'abc': 1, 'away': 38, 'show': 416, 'oscar': 331, 'back': 40, 'israel': 239, 'breitbart': 65, 'via': 469, 'bring': 67, 'visa': 470, 'overstayers': 332, 'across': 7, 'wide': 486, 'open': 330, 'border': 59, 'drug': 140, 'cartel': 78, 'million': 299, 'elect': 145, 'rep': 384, 'general': 188, 'raise': 374, 'study': 432, 'cnn': 96, 'search': 403, 'engine': 149, 'google': 197, 'result': 390, 'overwhelmingly': 333, 'favor': 171, 'duckduckgo': 141, 'good': 196, 'king': 253, 'adviser': 14, 'golden': 195, 'globe': 192, 'antigun': 26, 'hollywood': 219, 'surrounded': 437, 'security': 405, 'arm': 28, 'guard': 204, 'jussie': 247, 'attorney': 33, 'whistleblower': 484, 'tell': 444, 'news': 316, 'mcconnell': 290, 'agree': 15, 'hold': 218, 'trial': 454, 'gop': 198, 'senate': 407, 'charge': 85, 'democrat': 121, 'leave': 263, 'kill': 252, 'never': 314, 'win': 488, 'another': 25, 'election': 146, 'burger': 70, 'new': 315, 'child': 88, 'one': 329, 'talk': 441, 'promise': 364, 'protest': 367, 'attack': 32, 'right': 392, 'look': 277, 'truly': 456, 'really': 378, 'freedom': 182, 'young': 499, 'man': 284, 'able': 2, 'hand': 208, 'without': 490, 'crime': 109, 'try': 458, 'hamaswing': 207, 'party': 335, 'defend': 120, 'rabid': 373, 'bigot': 52, 'omar': 328, 'mass': 288, 'sick': 417, 'bill': 53, 'make': 283, 'face': 164, 'democratic': 122, 'sure': 436, 'grandparent': 201, 'allow': 19, 'enter': 151, 'measure': 292, 'flee': 177, 'poverty': 356, 'become': 44, 'bricklayer': 66, 'excellent': 157, 'piece': 342, 'cia': 90, 'prepares': 358, 'blame': 56, 'consultant': 102, 'excuse': 158, 'screw': 402, 'pooch': 351, 'steele': 428, 'dossier': 136, 'break': 64, 'nyt': 320, 'second': 404, 'intel': 232, 'official': 323, 'whether': 483, 'file': 173, 'vote': 472, 'mitch': 301, 'need': 313, 'since': 419, 'already': 20, 'accuse': 5, 'want': 474, 'leader': 261, 'kamala': 249, 'harris': 211, 'take': 440, 'gun': 205, 'dealer': 116, 'license': 268, 'executive': 160, 'action': 9, 'house': 220, 'pass': 336, 'send': 409, 'push': 370, 'facebook': 165, 'ban': 41, 'project': 363, 'veritas': 468, 'exec': 159, 'decries': 118, 'prevent': 362, 'happen': 209, 'report': 385, 'believe': 47, 'smollett': 420, 'pay': 338, 'two': 463, 'men': 295, 'know': 254, 'direct': 132, 'bradley': 62, 'cooper': 103, 'htt': 221, 'case': 79, 'foreign': 178, 'government': 199, 'stop': 430, 'use': 467, 'bryce': 68, 'harper': 210, 'ask': 31, 'phillies': 341, 'willing': 487, 'move': 303, 'city': 91, 'administration': 12, 'deny': 126, 'behind': 45, 'jared': 241, 'kushner': 256, 'promotion': 365, 'work': 492, 'baby': 39, 'california': 74, 'illegal': 225, 'alien': 16, 'school': 400, 'worker': 493, 'porn': 352, 'possession': 353, 'lastditch': 258, 'climate': 94, 'change': 84, 'provide': 368, 'location': 276, 'weapon': 478, 'whereabouts': 482, 'oil': 325, 'police': 346, 'officer': 322, 'job': 243, 'white': 485, 'krassensteins': 255, 'disappear': 133, 'twitter': 462, 'deactivation': 114, 'arrest': 29, 'evidence': 156, 'mean': 291, 'least': 262, 'tom': 452, 'brady': 63, 'accept': 4, 'super': 434, 'bowl': 60, 'trophy': 455, 'id': 224, 'ole': 327, 'fascist': 170, 'amp': 23, 'drop': 139, 'think': 449, 'public': 369, 'el': 144, 'donald': 135, 'jr': 245, 'covington': 108, 'catholic': 81, 'hoax': 217, 'target': 442, 'fake': 168, 'dedicate': 119, 'russell': 395, 'westbrook': 481, 'stay': 427, 'late': 259, 'practice': 357, 'miss': 300, 'extra': 163, 'shot': 415, 'acosta': 6, 'admit': 13, 'reporter': 386, 'serious': 410, 'author': 34, 'either': 143, 'patriot': 337, 'play': 345, 'game': 187, 'life': 270, 'billion': 54, 'people': 340, 'doesnt': 134, 'end': 148, 'call': 75, 'enough': 150, 'american': 22, 'socalled': 421, 'green': 202, 'deal': 115, 'old': 326, 'marxism': 287, 'dems': 125, 'support': 435, 'love': 280, 'hell': 214, 'every': 155, 'maga': 281, 'political': 348, 'may': 289, 'year': 497, 'claim': 92, 'lie': 269, 'multiple': 306, 'tv': 460, 'la': 257, 'bar': 42, 'switch': 438, 'dad': 111, 'rerun': 389, 'complaint': 100, 'half': 206, 'queen': 372, 'elizabeth': 147, 'request': 388, 'migrant': 297, 'family': 169, 'immigration': 228, 'policy': 347, 'tweet': 461, 'exist': 161, 'immigrant': 227, 'likely': 272, 'come': 98, 'forward': 180, 'mark': 286, 'poll': 349, 'still': 429, 'america': 21, 'china': 89, 'help': 215, 'give': 191, 'investigation': 236, 'big': 51, 'potentially': 355, 'jessye': 242, 'norman': 317, 'regal': 381, 'soprano': 423, 'die': 130, 'grammy': 200, 'award': 37, 'winner': 489, 'shimmer': 414, 'voice': 471, 'br': 61, 'list': 273, 'draft': 137, 'turn': 459, 'cnnpolitics': 97, 'barr': 43, 'investigate': 235, 'york': 498, 'legal': 264, 'billionaire': 55, 'deport': 128, 'cent': 83, 'allege': 18, 'isi': 238, 'lottery': 279, 'live': 275, 'day': 113, 'justice': 248, 'well': 480, 'texas': 446, 'decade': 117, 'tax': 443, 'kid': 251, 'keep': 250, 'bidens': 50, 'campaign': 76, 'coming': 99, 'thanks': 447, 'clintonlinked': 95, 'nunes': 319, 'schiff': 399, 'let': 265, 'chicago': 87, 'court': 107, 'even': 154, 'book': 58, 'mr': 304, 'obama': 321, 'iran': 237, 'could': 105, 'intelligence': 233, 'dangerous': 112, 'literally': 274, 'buy': 73, 'democratvoterfraud': 123, 'war': 475, 'im': 226, 'go': 193, 'refuse': 380, 'lose': 278, 'human': 222, 'way': 477, 'jar': 240, 'goff': 194, 'piss': 343, 'friend': 185, 'sue': 433, 'meet': 294, 'nation': 310, 'senator': 408, 'letter': 266, 'prosecutor': 366, 'high': 216, 'put': 371, 'check': 86, 'pompeo': 350, 'thing': 448, 'russia': 396, 'fromsoftware': 186, 'partnership': 334, 'eric': 153, 'carle': 77, 'set': 413, 'world': 494, 'hungry': 223, 'caterpillar': 80, 'freedomwielding': 184, 'schooler': 401, 'classmate': 93, 'freedoming': 183, 'eight': 142, 'epstein': 152, 'rape': 375, 'allegation': 17, 'money': 302, 'ukrainian': 465, 'today': 451, 'remove': 383, 'record': 379, 'joe': 244, 'federal': 172, 'hate': 212, 'nearly': 312, 'national': 311, 'release': 382, 'include': 231, 'article': 30, 'censorship': 82, 'pretend': 361, 'see': 406, 'many': 285, 'often': 324, 'service': 412, 'muslim': 308, 'son': 422, 'serve': 411, 'post': 354, 'syria': 439, 'bush': 72, 'expect': 162, 'level': 267, 'revoke': 391, 'authority': 35, 'admin': 11, 'giant': 190, 'demonic': 124, 'burst': 71, 'ground': 203, 'drag': 138, 'belichick': 46, 'testify': 445, 'hear': 213, 'run': 394, 'fire': 175, 'presidential': 360, 'cost': 104, 'judge': 246, 'rule': 393, 'penny': 339, 'biden': 49, 'bernie': 48, 'sander': 397, 'activist': 10, 'wear': 479, 'auto': 36, 'murderer': 307, 'mileage': 298, 'fox': 181, 'rapist': 376, 'aoc': 27}\n"
     ]
    }
   ],
   "source": [
    "print(Tfidf_vect.vocabulary_)"
   ]
  },
  {
   "cell_type": "code",
   "execution_count": 10,
   "metadata": {},
   "outputs": [
    {
     "name": "stdout",
     "output_type": "stream",
     "text": [
      "  (0, 489)\t0.2762639410642986\n",
      "  (0, 471)\t0.2758180532897473\n",
      "  (0, 423)\t0.27621681198304826\n",
      "  (0, 414)\t0.27685695188687537\n",
      "  (0, 381)\t0.2765951333227537\n",
      "  (0, 317)\t0.27549210799599544\n",
      "  (0, 306)\t0.2731591484750041\n",
      "  (0, 242)\t0.27549210799599544\n",
      "  (0, 200)\t0.27683309170396364\n",
      "  (0, 130)\t0.2711237572664809\n",
      "  (0, 67)\t0.22274282765230663\n",
      "  (0, 61)\t0.2767139665622915\n",
      "  (0, 37)\t0.2691296438834238\n",
      "  (0, 22)\t0.20732617252209368\n",
      "  (1, 469)\t0.5846393431732775\n",
      "  (1, 280)\t0.8112933121959769\n",
      "  (2, 457)\t0.16163508353777006\n",
      "  (2, 456)\t0.2971270039132393\n",
      "  (2, 442)\t0.2953559324230694\n",
      "  (2, 416)\t0.2705444406803833\n",
      "  (2, 377)\t0.28088669887172385\n",
      "  (2, 316)\t0.2485850934175848\n",
      "  (2, 245)\t0.2989372653658433\n",
      "  (2, 217)\t0.2927039641536697\n",
      "  (2, 168)\t0.2802770833131234\n",
      "  :\t:\n",
      "  (157779, 164)\t0.34622364227244673\n",
      "  (157779, 75)\t0.2540609837919456\n",
      "  (157779, 45)\t0.2970809769690922\n",
      "  (157779, 42)\t0.2914842319670862\n",
      "  (157779, 18)\t0.32719290810985163\n",
      "  (157780, 473)\t0.31686141866007933\n",
      "  (157780, 437)\t0.33993869425178763\n",
      "  (157780, 405)\t0.3153565405981076\n",
      "  (157780, 219)\t0.3342508182232468\n",
      "  (157780, 204)\t0.3376325084616708\n",
      "  (157780, 195)\t0.3397257156036971\n",
      "  (157780, 192)\t0.33986762579781715\n",
      "  (157780, 28)\t0.33535357894783896\n",
      "  (157780, 26)\t0.339832119940217\n",
      "  (157781, 339)\t0.5684721183179936\n",
      "  (157781, 338)\t0.47036467011221267\n",
      "  (157781, 329)\t0.389304436114215\n",
      "  (157781, 286)\t0.5513969385361832\n",
      "  (157782, 248)\t0.6534593964439506\n",
      "  (157782, 246)\t0.32908609780062653\n",
      "  (157782, 164)\t0.34622364227244673\n",
      "  (157782, 75)\t0.2540609837919456\n",
      "  (157782, 45)\t0.2970809769690922\n",
      "  (157782, 42)\t0.2914842319670862\n",
      "  (157782, 18)\t0.32719290810985163\n"
     ]
    }
   ],
   "source": [
    "print(Train_X_Tfidf)"
   ]
  },
  {
   "cell_type": "code",
   "execution_count": 11,
   "metadata": {},
   "outputs": [
    {
     "name": "stdout",
     "output_type": "stream",
     "text": [
      "SVM Accuracy Score ->  92.9165064623939\n"
     ]
    }
   ],
   "source": [
    "# Classifier - Algorithm - SVM\n",
    "# fit the training dataset on the classifier\n",
    "SVM = svm.SVC(C=1.0, kernel='linear', degree=3, gamma='auto')\n",
    "SVM.fit(Train_X_Tfidf,Train_Y)\n",
    "# predict the labels on validation dataset\n",
    "predictions_SVM = SVM.predict(Test_X_Tfidf)\n",
    "# Use accuracy_score function to get the accuracy\n",
    "print(\"SVM Accuracy Score -> \",accuracy_score(predictions_SVM, Test_Y)*100)"
   ]
  },
  {
   "cell_type": "code",
   "execution_count": 34,
   "metadata": {},
   "outputs": [
    {
     "name": "stdout",
     "output_type": "stream",
     "text": [
      "Precision: 0.9787523452157598\n",
      "Recall: 0.966646592856812\n"
     ]
    }
   ],
   "source": [
    "from sklearn import metrics\n",
    "# Model Precision: what percentage of positive tuples are labeled as such?\n",
    "print(\"Precision:\",metrics.precision_score(Test_Y, predictions_SVM))\n",
    "\n",
    "# Model Recall: what percentage of positive tuples are labelled as such?\n",
    "print(\"Recall:\",metrics.recall_score(Test_Y, predictions_SVM))"
   ]
  },
  {
   "cell_type": "code",
   "execution_count": null,
   "metadata": {},
   "outputs": [],
   "source": []
  }
 ],
 "metadata": {
  "kernelspec": {
   "display_name": "Python 3",
   "language": "python",
   "name": "python3"
  },
  "language_info": {
   "codemirror_mode": {
    "name": "ipython",
    "version": 3
   },
   "file_extension": ".py",
   "mimetype": "text/x-python",
   "name": "python",
   "nbconvert_exporter": "python",
   "pygments_lexer": "ipython3",
   "version": "3.8.3"
  },
  "toc": {
   "base_numbering": 1,
   "nav_menu": {},
   "number_sections": true,
   "sideBar": true,
   "skip_h1_title": false,
   "title_cell": "Table of Contents",
   "title_sidebar": "Contents",
   "toc_cell": false,
   "toc_position": {},
   "toc_section_display": true,
   "toc_window_display": false
  }
 },
 "nbformat": 4,
 "nbformat_minor": 4
}
